{
  "nbformat": 4,
  "nbformat_minor": 0,
  "metadata": {
    "colab": {
      "provenance": [],
      "include_colab_link": true
    },
    "kernelspec": {
      "name": "python3",
      "display_name": "Python 3"
    },
    "language_info": {
      "name": "python"
    }
  },
  "cells": [
    {
      "cell_type": "markdown",
      "metadata": {
        "id": "view-in-github",
        "colab_type": "text"
      },
      "source": [
        "<a href=\"https://colab.research.google.com/github/Evelyn-Rojas/Ecuaciones-diferenciales-parciales-ll/blob/main/Tarea1_Met_Jacobi.ipynb\" target=\"_parent\"><img src=\"https://colab.research.google.com/assets/colab-badge.svg\" alt=\"Open In Colab\"/></a>"
      ]
    },
    {
      "cell_type": "markdown",
      "source": [
        "TAREA 1. ECUACIONES DIFERENCIALES PARCIALES ll\n",
        "\n",
        "---\n",
        "\n"
      ],
      "metadata": {
        "id": "cGnCaMuy43Nr"
      }
    },
    {
      "cell_type": "markdown",
      "source": [
        "### <font color='coral'> **Problema de Dirichlet**\n",
        "\n",
        "$$\\frac{\\partial^2 u}{\\partial x^2} +\\frac{\\partial^2 u}{\\partial y^2} = 0$$\n",
        "Sujeta a:\n",
        "$$u(0,y)=0,u(2,y)=y(2,y), \\;\\;\\; 0<y<2$$\n",
        "\n",
        "$$\n",
        "u(x,0) = 0, \\quad\n",
        "u(x,2) =\n",
        "\\begin{cases}\n",
        "x & \\text{si } 0 < x < 1, \\\\\n",
        "2 - x & \\text{si } 1 \\leq x < 2\n",
        "\\end{cases}\n",
        "$$\n",
        "\n"
      ],
      "metadata": {
        "id": "RTyYZp7Ua3m2"
      }
    },
    {
      "cell_type": "markdown",
      "source": [
        "Tamaño de la malla: $$h=\\frac{2}{3}$$"
      ],
      "metadata": {
        "id": "gG2aw6c6GZFw"
      }
    },
    {
      "cell_type": "code",
      "execution_count": 11,
      "metadata": {
        "id": "x832Zm7q1Slh",
        "colab": {
          "base_uri": "https://localhost:8080/"
        },
        "outputId": "576b8b3c-f060-42d1-d811-ff7a06c3e210"
      },
      "outputs": [
        {
          "output_type": "stream",
          "name": "stdout",
          "text": [
            "Iteración.\tX_1\tX_2\tX_3\tX_4\t\tError\n",
            "--------------------------------------------------\n",
            "1    \t0.000000\t0.166667\t0.222222\t0.388889\t1.000000e+00\n",
            "2    \t0.138889\t0.263889\t0.319444\t0.486111\t3.339347e-01\n",
            "3    \t0.187500\t0.322917\t0.378472\t0.534722\t1.434134e-01\n",
            "4    \t0.214410\t0.347222\t0.402778\t0.564236\t6.550455e-02\n",
            "5    \t0.227865\t0.361328\t0.416884\t0.576389\t3.248775e-02\n",
            "6    \t0.234429\t0.367730\t0.423286\t0.583442\t1.569371e-02\n",
            "7    \t0.237793\t0.371134\t0.426690\t0.586643\t7.880141e-03\n",
            "8    \t0.239444\t0.372776\t0.428331\t0.588345\t3.894724e-03\n",
            "9    \t0.240280\t0.373614\t0.429170\t0.589166\t1.952524e-03\n",
            "10   \t0.240695\t0.374028\t0.429584\t0.589585\t9.727226e-04\n",
            "11   \t0.240903\t0.374237\t0.429792\t0.589792\t4.868745e-04\n",
            "12   \t0.241007\t0.374340\t0.429896\t0.589896\t2.431708e-04\n",
            "13   \t0.241059\t0.374392\t0.429948\t0.589948\t1.216292e-04\n",
            "14   \t0.241085\t0.374418\t0.429974\t0.589974\t6.079509e-05\n",
            "15   \t0.241098\t0.374431\t0.429987\t0.589987\t3.040101e-05\n",
            "16   \t0.241105\t0.374438\t0.429994\t0.589994\t1.519911e-05\n",
            "17   \t0.241108\t0.374441\t0.429997\t0.589997\t7.599815e-06\n",
            "18   \t0.241109\t0.374443\t0.429998\t0.589998\t3.799809e-06\n",
            "19   \t0.241110\t0.374444\t0.429999\t0.589999\t1.899924e-06\n",
            "20   \t0.241111\t0.374444\t0.430000\t0.590000\t9.499549e-07\n",
            "Convergencia alcanzada\n",
            "Solución obtenida:\n",
            "[0.2411107  0.37444404 0.42999959 0.58999959]\n",
            "Iteraciones: 20\n"
          ]
        }
      ],
      "source": [
        "#Importamos libreria\n",
        "import numpy as np\n",
        "\n",
        "def Mjacobi(A, b, x_0, tol, iter_max):\n",
        "  # A: Matriz\n",
        "  # b= vector solución\n",
        "  # x_0 vector inicial (promedio en las fronteras)\n",
        "\n",
        "    n = len(b)\n",
        "    x = x_0.copy()\n",
        "    x_new = np.zeros(n) #creamos un arreglo vacío de ceros\n",
        "\n",
        "   # Tabla\n",
        "    header = \"Iteración.\"\n",
        "    for i in range(n):\n",
        "        header += f\"\\tX_{i+1}\"\n",
        "    header += \"\\t\\tError\"\n",
        "    print(header)\n",
        "    print(\"-\" * (10 + 10 * n))\n",
        "\n",
        "    for k in range(1, max_iter + 1):\n",
        "        for i in range(n):\n",
        "            sum_val = np.dot(A[i, :i], x[:i]) + np.dot(A[i, i+1:], x[i+1:])\n",
        "            x_new[i] = (b[i] - sum_val) / A[i, i]\n",
        "\n",
        "        error = np.linalg.norm(x_new - x) / np.linalg.norm(x_new)\n",
        "        row = f\"{k:<5}\"\n",
        "        for val in x_new:\n",
        "            row += f\"\\t{val:.6f}\"\n",
        "        row += f\"\\t{error:.6e}\"\n",
        "        print(row)\n",
        "\n",
        "        if error < tol:\n",
        "            print(\"Convergencia alcanzada\")\n",
        "            return x_new, k\n",
        "\n",
        "        x = x_new.copy()\n",
        "\n",
        "    print(\"Maximo número de iteraciones alcanzada\")\n",
        "    return x, iter_max\n",
        "\n",
        "# Ingresamos la matriz y el vector del sistema obtenido\n",
        "if __name__ == \"__main__\":\n",
        "    A = np.array([[4., -1., 0., -1.],\n",
        "                  [-1., 4., 0., -1.],\n",
        "                  [-1., 0., 4., -1.],\n",
        "                  [0., -1., -1., 4.]])\n",
        "\n",
        "    b = np.array([0., 2/3., 8/9., 14/9.])\n",
        "\n",
        "    x_0 = np.zeros(4)\n",
        "    tol = 1e-6 #Tolerancia máxima\n",
        "    iter_max = 25 # Una medida de paro en caso de que el algoritmo de alargue\n",
        "\n",
        "    solution, iterations = Mjacobi(A, b, x_0, tol, iter_max)\n",
        "\n",
        "    print(\"Solución obtenida:\")\n",
        "    print(solution)\n",
        "    print(f\"Iteraciones: {iterations}\")"
      ]
    },
    {
      "cell_type": "markdown",
      "source": [
        "* Nota: Para cambiar a otro ejercicio basta con ajustar la matriz y el vector dependiendo la dimensión del mismo."
      ],
      "metadata": {
        "id": "1tiKIqRd8X43"
      }
    }
  ]
}